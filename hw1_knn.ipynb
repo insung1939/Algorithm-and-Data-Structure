{
  "nbformat": 4,
  "nbformat_minor": 0,
  "metadata": {
    "colab": {
      "provenance": [],
      "include_colab_link": true
    },
    "kernelspec": {
      "name": "python3",
      "display_name": "Python 3"
    },
    "language_info": {
      "name": "python"
    }
  },
  "cells": [
    {
      "cell_type": "markdown",
      "metadata": {
        "id": "view-in-github",
        "colab_type": "text"
      },
      "source": [
        "<a href=\"https://colab.research.google.com/github/insung1939/Algorithm_and_DataStructure/blob/main/hw1_knn.ipynb\" target=\"_parent\"><img src=\"https://colab.research.google.com/assets/colab-badge.svg\" alt=\"Open In Colab\"/></a>"
      ]
    },
    {
      "cell_type": "markdown",
      "metadata": {
        "id": "f7MWUDI2IBYW"
      },
      "source": [
        "## Colab Setup"
      ]
    },
    {
      "cell_type": "code",
      "metadata": {
        "id": "JsEbh_t58ZJo",
        "colab": {
          "base_uri": "https://localhost:8080/"
        },
        "outputId": "88309220-d8e2-429b-9dfd-e11c8eed298c"
      },
      "source": [
        "from google.colab import drive\n",
        "drive.mount('/content/drive')"
      ],
      "execution_count": 59,
      "outputs": [
        {
          "output_type": "stream",
          "name": "stdout",
          "text": [
            "Drive already mounted at /content/drive; to attempt to forcibly remount, call drive.mount(\"/content/drive\", force_remount=True).\n"
          ]
        }
      ]
    },
    {
      "cell_type": "code",
      "metadata": {
        "id": "_GXMM3Js7hII",
        "colab": {
          "base_uri": "https://localhost:8080/"
        },
        "outputId": "aa76cf31-b72f-4ca6-b495-815f5c758a02"
      },
      "source": [
        "\"\"\"\n",
        "Change directory to where this file is located\n",
        "\"\"\"\n",
        "%cd '/content/drive/MyDrive/Colab Notebooks/ML_Visual_Understanding/hw1/'"
      ],
      "execution_count": 60,
      "outputs": [
        {
          "output_type": "stream",
          "name": "stdout",
          "text": [
            "/content/drive/MyDrive/Colab Notebooks/ML_Visual_Understanding/hw1\n"
          ]
        }
      ]
    },
    {
      "cell_type": "markdown",
      "metadata": {
        "id": "rR3VeoqMIFbq"
      },
      "source": [
        "## Import Modules"
      ]
    },
    {
      "cell_type": "code",
      "metadata": {
        "id": "JAC2qQEy7rM8"
      },
      "source": [
        "import numpy as np\n",
        "import matplotlib.pyplot as plt\n",
        "from mnist.data_utils import load_data"
      ],
      "execution_count": 61,
      "outputs": []
    },
    {
      "cell_type": "markdown",
      "metadata": {
        "id": "jMw488CqIOhm"
      },
      "source": [
        "## K-Nearest Neighbor Implementation"
      ]
    },
    {
      "cell_type": "code",
      "metadata": {
        "id": "zpsV2Bb3r3s4"
      },
      "source": [
        "class KNN:\n",
        "    \"\"\" k-nearest neighbor classifier class \"\"\"\n",
        "\n",
        "    def train(self, X, y):\n",
        "        \"\"\"\n",
        "        Trains the classifier using the given training data (X, y).\n",
        "\n",
        "        Question (a)\n",
        "        - Recall that for k-nearest neighbors this is just memorizing the training data.\n",
        "\n",
        "        Inputs\n",
        "        - X: A numpy array of shape (N, D), where N is the number of data points,\n",
        "            D is the dimensionality of each data point.\n",
        "        - y: A numpy array of shape (N,) containing the training labels, where\n",
        "            y[i] is the label for X[i]. With C classes, each y[i] is an integer\n",
        "            from 0 to C-1.\n",
        "        \"\"\"\n",
        "\n",
        "        # just memorizing X and y train data\n",
        "        self.X_train = X\n",
        "        self.y_train = y\n",
        "\n",
        "    def inference(self, X_test, k=1, dist_metric='l2'):\n",
        "        \"\"\"\n",
        "        For each test example in X, this method predicts its label by majority vote\n",
        "        from the k nearest training samples. It returns the predicted labels.\n",
        "\n",
        "        Do NOT Modify this method.\n",
        "\n",
        "        Inputs\n",
        "        - X_test: A numpy array of shape (N, D), where N is the number of test data points,\n",
        "            D is the dimensionality of each data point.\n",
        "        - X_train: A numpy array of shape (M, D), where M is the number of training data points,\n",
        "            D is the dimensionality of each data point.\n",
        "        - k: The number of neighbors to participate in voting.\n",
        "            dist_metric: Determines the distance metric to use.\n",
        "        Returns\n",
        "        - y_pred: A numpy array of shape (N,) containing predicted labels for the test data X,\n",
        "            where y_pred[i] is the predicted label for the test point X[i].\n",
        "        \"\"\"\n",
        "        dists = self.compute_distance(X_test, dist_metric) # 거리척도 기반으로 X_test 간의 거리계산\n",
        "        y_pred = self.predict_labels(X_test, dists, k) # X_test 셋을 가지고 y_test를 예측수행\n",
        "        return y_pred\n",
        "\n",
        "    def compute_distance(self, X_test, dist_metric):\n",
        "        \"\"\"\n",
        "        Computes the distance between the training data and test data using the given dist_metric.\n",
        "\n",
        "        Question (b)\n",
        "        - comlete the if and elif statements.\n",
        "        - hint: you can use np.linalg.norm to normalize data for cosine similarity.\n",
        "        - hint: you can use np.repeat and np.tile to vectorize L2 distance computation.\n",
        "\n",
        "        Inputs\n",
        "        - X_test: A numpy array of shape (N, D), where N is the number of test data points,\n",
        "            D is the dimensionality of each data point.\n",
        "        - X_train: A numpy array of shape (M, D), where M is the number of training data points,\n",
        "            D is the dimensionality of each data point.\n",
        "        - dist_metric: Determines the distance metric to use.\n",
        "        Returns\n",
        "        - dists: A numpy array of shape (N, M) where N is the number of test data points,\n",
        "            and M is the number of traininig data points, containing distances between\n",
        "            each pair of test and train data points based on the given distance metric.\n",
        "        \"\"\"\n",
        "        if dist_metric=='dot':\n",
        "          # dot product for N*M size\n",
        "          dists = -np.dot(X_test, self.X_train.T) # (N,D)*(D,M)=(N,M), 벡터의 값이 클수록 유사\n",
        "        elif dist_metric=='cos':\n",
        "          norm_test = np.linalg.norm(X_test, axis = 1, keepdims = 1)  # (N,1)\n",
        "          norm_train = np.linalg.norm(self.X_train, axis = 1, keepdims = 1) # (M,1)\n",
        "          # normalized data\n",
        "          X_test_normalized = X_test / norm_test # (N,D)\n",
        "          X_train_normalized = self.X_train / norm_train # (M,D)\n",
        "          dists = 1 - np.dot(X_test_normalized,X_train_normalized.T) # (N,D)*(D,M)=(N,M), 코사인유사도는 1에 가까울수록 유사\n",
        "        elif dist_metric=='l2':\n",
        "          # euclidean distance\n",
        "          dists = np.sqrt(\n",
        "              np.sum(X_test**2, axis=1, keepdims=1) # (N,1)\n",
        "              +np.sum(self.X_train**2, axis =1) # (M)\n",
        "              -2*np.dot(X_test, X_train.T) # (N,M)\n",
        "              )\n",
        "        return dists\n",
        "\n",
        "    def predict_labels(self, X_test, dists, k):\n",
        "        \"\"\"\n",
        "        For the given test image, this method takes a majority vote from k closest points\n",
        "        to predict the class of the test image.\n",
        "\n",
        "        Question (c)\n",
        "\n",
        "        Inputs\n",
        "        - X_test: A numpy array of shape (N, D), where N is the number of test data points,\n",
        "            D is the dimensionality of each data point.\n",
        "        - dists: A numpy array of shape (N, M) where N is the number of test data points,\n",
        "            and M is the number of traininig data points, containing distances between\n",
        "            each pair of test and train data points based on the given distance metric.\n",
        "        - k: The number of neighbors to participate in voting.\n",
        "        Returns\n",
        "        - y_pred: A numpy array of shape (N,) containing predicted labels for the test data X,\n",
        "            where y_pred[i] is the predicted label for the test point X[i].\n",
        "        \"\"\"\n",
        "        # number of test sample\n",
        "        N = X_test.shape[0]\n",
        "        y_pred = np.zeros(N)\n",
        "\n",
        "        # N개의 샘플에 대해 예측된 y를 반환하는 작업\n",
        "        for i in range(N):\n",
        "          # 가까운 k개의 샘플 인덱스 가져오기 (가까운 거리를 이용)\n",
        "          k_closest_idx = np.argsort(dists[i])[:k]\n",
        "          # 인덱스에 해당하는 y_train 가져오기\n",
        "          y_train = self.y_train[k_closest_idx].flatten()\n",
        "          # 다수결 선택된 레이블, bincount는 배열의 각 값의 빈도를 세는 배열, argmax는 가장 큰 값을 가진 인덱스를 반환\n",
        "          y_pred[i] = np.bincount(y_train).argmax()\n",
        "\n",
        "        return y_pred\n",
        "\n",
        "\n",
        "    def evaluate(self, y, y_hat):\n",
        "        \"\"\"\n",
        "        Compares the predicted labels to the ground truth y, and prints the\n",
        "        classification accuracy.\n",
        "\n",
        "        Do NOT Modify this method.\n",
        "\n",
        "        Inputs\n",
        "        - y: A numpy array of shape (N,) containing the ground truth labels, where\n",
        "            N is the number of test examples. With C classes, each y[i] is an integer\n",
        "            from 0 to C-1.\n",
        "        - y_hat: A numpy array of shape (N,) containing the predicted labels, where\n",
        "            N is the number of test examples. With C classes, each y_pred[i] is\n",
        "            an integer from 0 to C-1.\n",
        "        Returns:\n",
        "        - accuracy\n",
        "        \"\"\"\n",
        "        y_hat = np.expand_dims(y_hat, axis=1) # 두번째 차원에 새로운 축 추가\n",
        "        num_correct = np.sum(y_hat == y)\n",
        "        accuracy = float(num_correct) / y.shape[0]\n",
        "        return accuracy"
      ],
      "execution_count": 62,
      "outputs": []
    },
    {
      "cell_type": "markdown",
      "metadata": {
        "id": "yvwolO5qHzXl"
      },
      "source": [
        "## Data Loading"
      ]
    },
    {
      "cell_type": "code",
      "metadata": {
        "id": "zR9dOpGX_0iz"
      },
      "source": [
        "def sample_data(X, y, count):\n",
        "    mask = np.random.choice(X.shape[0], count, replace=False) # 비복원추출\n",
        "    X_sampled = X[mask]\n",
        "    y_sampled = y[mask]\n",
        "    return X_sampled, y_sampled"
      ],
      "execution_count": 63,
      "outputs": []
    },
    {
      "cell_type": "code",
      "metadata": {
        "colab": {
          "base_uri": "https://localhost:8080/"
        },
        "id": "UOzrdgGSHVXF",
        "outputId": "330de3df-c76f-4157-b81f-7c0924612367"
      },
      "source": [
        "num_train_data = 1000\n",
        "num_test_data = 200\n",
        "\n",
        "X_train_src, y_train_src, X_test_src, y_test_src = load_data(one_hot_encoding=False) # Training data is flattened when it is loaded\n",
        "X_train, y_train = sample_data(X_train_src, y_train_src, num_train_data) # sample 1000 train data\n",
        "X_test, y_test = sample_data(X_test_src, y_test_src, num_test_data) # sample 200 test data"
      ],
      "execution_count": 64,
      "outputs": [
        {
          "output_type": "stream",
          "name": "stdout",
          "text": [
            "MNIST data loaded:\n",
            "Training data shape: (60000, 784)\n",
            "Training labels shape: (60000, 1)\n",
            "Test data shape: (10000, 784)\n",
            "Test labels shape: (10000, 1)\n"
          ]
        }
      ]
    },
    {
      "cell_type": "markdown",
      "metadata": {
        "id": "lZDHMwziIpja"
      },
      "source": [
        "## Model Training & Evaluation"
      ]
    },
    {
      "cell_type": "code",
      "metadata": {
        "id": "nfq-3_r4IsHB"
      },
      "source": [
        "model = KNN()\n",
        "model.train(X_train, y_train)"
      ],
      "execution_count": 65,
      "outputs": []
    },
    {
      "cell_type": "code",
      "metadata": {
        "colab": {
          "base_uri": "https://localhost:8080/"
        },
        "id": "fPmKakDuuc8b",
        "outputId": "774f42bc-5f45-442d-92c6-10dd9a109a6d"
      },
      "source": [
        "\"\"\"\n",
        "Model usage for test.\n",
        "\"\"\"\n",
        "K = 15\n",
        "y_pred = model.inference(X_test, k=K, dist_metric='l2')\n",
        "acc = model.evaluate(y_test, y_pred)\n",
        "print(\"Accuarcy:\", acc)"
      ],
      "execution_count": 66,
      "outputs": [
        {
          "output_type": "stream",
          "name": "stdout",
          "text": [
            "Accuarcy: 0.84\n"
          ]
        }
      ]
    },
    {
      "cell_type": "markdown",
      "metadata": {
        "id": "_-IRMbqqRtmh"
      },
      "source": [
        "## Experiments"
      ]
    },
    {
      "cell_type": "code",
      "metadata": {
        "id": "r0IsD2pwgFxM"
      },
      "source": [
        "# Modify the number of k's and metrics to try as you want\n",
        "num_ks = 50\n",
        "metrics = ['dot', 'cos', 'l2']"
      ],
      "execution_count": 67,
      "outputs": []
    },
    {
      "cell_type": "code",
      "metadata": {
        "id": "68AnUY2wSkMX",
        "colab": {
          "base_uri": "https://localhost:8080/"
        },
        "outputId": "7b3598fd-6ba1-4f17-f67d-1d7f121b0896"
      },
      "source": [
        "# Run experiments\n",
        "print_k_interval = 5\n",
        "result = dict(zip(metrics, [[] for _ in range(len(metrics))]))\n",
        "for metric in metrics:\n",
        "    print(\"running KNN with {} distance metric\".format(metric))\n",
        "    for k in range(1, num_ks+1):\n",
        "        if k % print_k_interval==0:\n",
        "            print(\"    processing... k={:3d}\".format(k))\n",
        "        y_pred = model.inference(X_test, k=k, dist_metric=metric)\n",
        "        acc = model.evaluate(y_test, y_pred)\n",
        "        result[metric].append(acc)\n",
        "    print()"
      ],
      "execution_count": 68,
      "outputs": [
        {
          "output_type": "stream",
          "name": "stdout",
          "text": [
            "running KNN with dot distance metric\n",
            "    processing... k=  5\n",
            "    processing... k= 10\n",
            "    processing... k= 15\n",
            "    processing... k= 20\n",
            "    processing... k= 25\n",
            "    processing... k= 30\n",
            "    processing... k= 35\n",
            "    processing... k= 40\n",
            "    processing... k= 45\n",
            "    processing... k= 50\n",
            "\n",
            "running KNN with cos distance metric\n",
            "    processing... k=  5\n",
            "    processing... k= 10\n",
            "    processing... k= 15\n",
            "    processing... k= 20\n",
            "    processing... k= 25\n",
            "    processing... k= 30\n",
            "    processing... k= 35\n",
            "    processing... k= 40\n",
            "    processing... k= 45\n",
            "    processing... k= 50\n",
            "\n",
            "running KNN with l2 distance metric\n",
            "    processing... k=  5\n",
            "    processing... k= 10\n",
            "    processing... k= 15\n",
            "    processing... k= 20\n",
            "    processing... k= 25\n",
            "    processing... k= 30\n",
            "    processing... k= 35\n",
            "    processing... k= 40\n",
            "    processing... k= 45\n",
            "    processing... k= 50\n",
            "\n"
          ]
        }
      ]
    },
    {
      "cell_type": "code",
      "metadata": {
        "id": "Q47KrG6ch6MH",
        "colab": {
          "base_uri": "https://localhost:8080/",
          "height": 487
        },
        "outputId": "c67ca342-65a7-463f-e6f9-a8ef08f2c4e1"
      },
      "source": [
        "# Visualize the result\n",
        "fig = plt.figure(figsize=(10,5))\n",
        "ax = fig.add_subplot(1,1,1)\n",
        "\n",
        "x_axis = np.arange(1, num_ks+1, 1)\n",
        "for i, metric in enumerate(metrics):\n",
        "    ax.scatter(x_axis, result[metric], label = metric)\n",
        "\n",
        "ax.set(title=\"K-Nearest Neighbor Accuracies on different Ks\")\n",
        "ax.set(xlabel='K', ylabel='Accuracy')\n",
        "ax.set(xticks=np.arange(0, num_ks+1,5), yticks=np.arange(0.5,1.0,0.05))\n",
        "ax.legend()\n",
        "plt.show()"
      ],
      "execution_count": 69,
      "outputs": [
        {
          "output_type": "display_data",
          "data": {
            "text/plain": [
              "<Figure size 1000x500 with 1 Axes>"
            ],
            "image/png": "[encoded data removed]"
          },
          "metadata": {}
        }
      ]
    },
    {
      "cell_type": "code",
      "metadata": {
        "id": "6dbMIK5-WP3b"
      },
      "source": [
        "###\n",
        "# Question (d)\n",
        "# Briefly report what you observe in the plot above.\n",
        "# Answer) Cosine similarity has the highest average accuracy.\n",
        "# And the Euclidean distance metric follows as the second-best performing metric, maintaining relatively high accuracy exceeding 80%.\n",
        "# But, the dot product metric has the lowest accuracy overall, suggesting that it would not be an effective metric in this data set.\n",
        "# As the value of K increases, a general decline in accuracy is observed across all metrics.\n",
        "# And I believe this trend indicates an underfitting problem leading to low accuracy.\n",
        "# In summary, cosine similarity seems to be the best metric for this dataset, providing the highest accuracy.\n",
        "# Furthermore, having bigger value of K should be avoided to prevent underfitting.\n",
        "\n",
        "###"
      ],
      "execution_count": 70,
      "outputs": []
    },
    {
      "cell_type": "markdown",
      "metadata": {
        "id": "QgIN5NRpF5OF"
      },
      "source": [
        "  Write your answer to (d) in this cell."
      ]
    },
    {
      "cell_type": "code",
      "metadata": {
        "id": "mjgeVV7ydJ5K"
      },
      "source": [
        "###\n",
        "# Question (e)\n",
        "# In what kind of dataset dot product(not cosine similarity) will serve as a good metric?\n",
        "# Answer) If the magnitude of vectors is more important in a dataset,\n",
        "# then the dot product would be a better metric compared to cosine similarity.\n",
        "# This is because the dot product considers both the magnitude and the direction of the vectors.\n",
        "# Thus, the dot product would be particularly useful in datasets that have physical quantities such as speed, force, or other measurements.\n",
        "# Because the size and direction of the vectors are critical in the data sets.\n",
        "###"
      ],
      "execution_count": 71,
      "outputs": []
    },
    {
      "cell_type": "markdown",
      "metadata": {
        "id": "eCkBY-yHF_-U"
      },
      "source": [
        "  Write your answer to (e) in this cell."
      ]
    }
  ]
}